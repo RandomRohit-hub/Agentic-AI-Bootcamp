{
 "cells": [
  {
   "cell_type": "code",
   "execution_count": 14,
   "id": "1d11847a",
   "metadata": {},
   "outputs": [
    {
     "name": "stdout",
     "output_type": "stream",
     "text": [
      "()\n",
      "<class 'tuple'>\n"
     ]
    }
   ],
   "source": [
    "emptytu=()\n",
    "print(emptytu)\n",
    "print(type(emptytu))"
   ]
  },
  {
   "cell_type": "code",
   "execution_count": null,
   "id": "7e9e0d3a",
   "metadata": {},
   "outputs": [],
   "source": [
    "del list\n",
    "lis = list()\n",
    "print(type(lis))\n"
   ]
  },
  {
   "cell_type": "code",
   "execution_count": 30,
   "id": "8ce3c570",
   "metadata": {},
   "outputs": [
    {
     "data": {
      "text/plain": [
       "(1, 2, 3, 4, 5)"
      ]
     },
     "execution_count": 30,
     "metadata": {},
     "output_type": "execute_result"
    }
   ],
   "source": [
    "num=tuple([1,2,3,4,5])\n",
    "num"
   ]
  },
  {
   "cell_type": "code",
   "execution_count": 31,
   "id": "bed29305",
   "metadata": {},
   "outputs": [
    {
     "name": "stdout",
     "output_type": "stream",
     "text": [
      "(1, 'hello', 3.12, True)\n"
     ]
    }
   ],
   "source": [
    "mix=(1,'hello',3.12,True)\n",
    "print(mix)"
   ]
  },
  {
   "cell_type": "code",
   "execution_count": 32,
   "id": "44865cf5",
   "metadata": {},
   "outputs": [
    {
     "data": {
      "text/plain": [
       "(1, 2, 3, 4, 5)"
      ]
     },
     "execution_count": 32,
     "metadata": {},
     "output_type": "execute_result"
    }
   ],
   "source": [
    "num"
   ]
  },
  {
   "cell_type": "code",
   "execution_count": 33,
   "id": "c12a3068",
   "metadata": {},
   "outputs": [
    {
     "data": {
      "text/plain": [
       "3"
      ]
     },
     "execution_count": 33,
     "metadata": {},
     "output_type": "execute_result"
    }
   ],
   "source": [
    "num[2]"
   ]
  },
  {
   "cell_type": "code",
   "execution_count": 34,
   "id": "e3d5cc61",
   "metadata": {},
   "outputs": [
    {
     "data": {
      "text/plain": [
       "(1, 'hello', 3.12, True)"
      ]
     },
     "execution_count": 34,
     "metadata": {},
     "output_type": "execute_result"
    }
   ],
   "source": [
    "mix"
   ]
  },
  {
   "cell_type": "code",
   "execution_count": 35,
   "id": "35649d71",
   "metadata": {},
   "outputs": [
    {
     "name": "stdout",
     "output_type": "stream",
     "text": [
      "(1, 2, 3, 4, 5, 1, 'hello', 3.12, True)\n"
     ]
    }
   ],
   "source": [
    "concat=num + mix\n",
    "print(concat)"
   ]
  },
  {
   "cell_type": "code",
   "execution_count": 36,
   "id": "b85999f5",
   "metadata": {},
   "outputs": [
    {
     "data": {
      "text/plain": [
       "(1, 'hello', 3.12, True, 1, 'hello', 3.12, True, 1, 'hello', 3.12, True)"
      ]
     },
     "execution_count": 36,
     "metadata": {},
     "output_type": "execute_result"
    }
   ],
   "source": [
    "mix*3"
   ]
  },
  {
   "cell_type": "code",
   "execution_count": 37,
   "id": "6d011821",
   "metadata": {},
   "outputs": [],
   "source": [
    "# tuple are inmutable element cannot change once assigned"
   ]
  },
  {
   "cell_type": "code",
   "execution_count": 38,
   "id": "67bec1a2",
   "metadata": {},
   "outputs": [
    {
     "name": "stdout",
     "output_type": "stream",
     "text": [
      "[1, 2, 3, 4, 5]\n",
      "[1, 2, 'apple', 4, 5]\n"
     ]
    }
   ],
   "source": [
    "l=[1,2,3,4,5]\n",
    "\n",
    "print(l)\n",
    "l[2]='apple'\n",
    "print(l)\n",
    "\n",
    "# list"
   ]
  },
  {
   "cell_type": "code",
   "execution_count": 39,
   "id": "d0a9dc4a",
   "metadata": {},
   "outputs": [
    {
     "ename": "TypeError",
     "evalue": "'tuple' object does not support item assignment",
     "output_type": "error",
     "traceback": [
      "\u001b[31m---------------------------------------------------------------------------\u001b[39m",
      "\u001b[31mTypeError\u001b[39m                                 Traceback (most recent call last)",
      "\u001b[36mCell\u001b[39m\u001b[36m \u001b[39m\u001b[32mIn[39]\u001b[39m\u001b[32m, line 1\u001b[39m\n\u001b[32m----> \u001b[39m\u001b[32m1\u001b[39m \u001b[43mnum\u001b[49m\u001b[43m[\u001b[49m\u001b[32;43m1\u001b[39;49m\u001b[43m]\u001b[49m=\u001b[33m'\u001b[39m\u001b[33mhehe\u001b[39m\u001b[33m'\u001b[39m\n",
      "\u001b[31mTypeError\u001b[39m: 'tuple' object does not support item assignment"
     ]
    }
   ],
   "source": [
    "num[1]='hehe'"
   ]
  },
  {
   "cell_type": "code",
   "execution_count": 40,
   "id": "0cd25209",
   "metadata": {},
   "outputs": [],
   "source": [
    "# l=list()\n",
    "# print(type(l))"
   ]
  },
  {
   "cell_type": "markdown",
   "id": "a48efc3e",
   "metadata": {},
   "source": [
    "    TUPLE METHOD\n",
    "    "
   ]
  },
  {
   "cell_type": "code",
   "execution_count": 42,
   "id": "c0fe606e",
   "metadata": {},
   "outputs": [
    {
     "data": {
      "text/plain": [
       "[1, 2, 'apple', 4, 5]"
      ]
     },
     "execution_count": 42,
     "metadata": {},
     "output_type": "execute_result"
    }
   ],
   "source": [
    "l"
   ]
  },
  {
   "cell_type": "code",
   "execution_count": 45,
   "id": "5735c720",
   "metadata": {},
   "outputs": [
    {
     "name": "stdout",
     "output_type": "stream",
     "text": [
      "1\n",
      "2\n",
      "<class 'tuple'>\n"
     ]
    }
   ],
   "source": [
    "print(num.count(3))\n",
    "print(num.index(3))\n",
    "print(type(num))"
   ]
  },
  {
   "cell_type": "code",
   "execution_count": 47,
   "id": "4f809571",
   "metadata": {},
   "outputs": [
    {
     "name": "stdout",
     "output_type": "stream",
     "text": [
      "(1, 'hi', 2, 3)\n",
      "<class 'tuple'>\n"
     ]
    }
   ],
   "source": [
    "# packking\n",
    "\n",
    "packed_t=1,'hi',2,3\n",
    "print (packed_t)\n",
    "print(type(packed_t))"
   ]
  },
  {
   "cell_type": "code",
   "execution_count": 49,
   "id": "9a9e558f",
   "metadata": {},
   "outputs": [
    {
     "name": "stdout",
     "output_type": "stream",
     "text": [
      "1\n",
      "[2, 3, 4, 5, 6, 7, 8]\n",
      "9\n"
     ]
    }
   ],
   "source": [
    "#unpacking\n",
    "\n",
    "\n",
    "numb=(1,2,3,4,5,6,7,8,9)\n",
    "first,*middle,last=numb\n",
    "print(first)\n",
    "print(middle)\n",
    "print(last)"
   ]
  },
  {
   "cell_type": "code",
   "execution_count": null,
   "id": "eb688d2c",
   "metadata": {},
   "outputs": [],
   "source": []
  },
  {
   "cell_type": "code",
   "execution_count": null,
   "id": "729f3ab7",
   "metadata": {},
   "outputs": [],
   "source": []
  }
 ],
 "metadata": {
  "kernelspec": {
   "display_name": "Python 3",
   "language": "python",
   "name": "python3"
  },
  "language_info": {
   "codemirror_mode": {
    "name": "ipython",
    "version": 3
   },
   "file_extension": ".py",
   "mimetype": "text/x-python",
   "name": "python",
   "nbconvert_exporter": "python",
   "pygments_lexer": "ipython3",
   "version": "3.12.0"
  }
 },
 "nbformat": 4,
 "nbformat_minor": 5
}
