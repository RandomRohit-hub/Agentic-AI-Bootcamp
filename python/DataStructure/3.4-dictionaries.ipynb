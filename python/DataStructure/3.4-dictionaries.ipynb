{
 "cells": [
  {
   "cell_type": "code",
   "execution_count": 1,
   "id": "910e5a5d",
   "metadata": {},
   "outputs": [
    {
     "name": "stdout",
     "output_type": "stream",
     "text": [
      "<class 'dict'>\n"
     ]
    }
   ],
   "source": [
    "emptydict={}\n",
    "print(type(emptydict))"
   ]
  },
  {
   "cell_type": "code",
   "execution_count": 2,
   "id": "301380ea",
   "metadata": {},
   "outputs": [
    {
     "name": "stdout",
     "output_type": "stream",
     "text": [
      "{}\n"
     ]
    }
   ],
   "source": [
    "emptyd=dict()\n",
    "print(emptyd)"
   ]
  },
  {
   "cell_type": "code",
   "execution_count": 3,
   "id": "8f50d5d6",
   "metadata": {},
   "outputs": [
    {
     "name": "stdout",
     "output_type": "stream",
     "text": [
      "{'name': 'osama', 'age': '32', 'grade': 23}\n"
     ]
    }
   ],
   "source": [
    "student={'name':\"osama\",'age':'32','grade':23}\n",
    "print(student)"
   ]
  },
  {
   "cell_type": "code",
   "execution_count": 4,
   "id": "51ee5de2",
   "metadata": {},
   "outputs": [
    {
     "name": "stdout",
     "output_type": "stream",
     "text": [
      "{'name': 'osama', 'age': 32, 'grade': 23}\n"
     ]
    }
   ],
   "source": [
    "student={'name':\"osama\",'age':32,'grade':23}\n",
    "print(student)"
   ]
  },
  {
   "cell_type": "code",
   "execution_count": 5,
   "id": "770383d4",
   "metadata": {},
   "outputs": [
    {
     "name": "stdout",
     "output_type": "stream",
     "text": [
      "A\n"
     ]
    }
   ],
   "source": [
    "student={'name':\"osama\",'age':'32','grade':\"A\"}\n",
    "print(student ['grade'])"
   ]
  },
  {
   "cell_type": "code",
   "execution_count": 6,
   "id": "d268c759",
   "metadata": {},
   "outputs": [
    {
     "name": "stdout",
     "output_type": "stream",
     "text": [
      "A\n",
      "None\n",
      "not avalible\n"
     ]
    }
   ],
   "source": [
    "print(student.get('grade'))\n",
    "print(student.get('last_name'))\n",
    "print(student.get('lastname','not avalible'))"
   ]
  },
  {
   "cell_type": "code",
   "execution_count": 7,
   "id": "6cbab44a",
   "metadata": {},
   "outputs": [
    {
     "name": "stdout",
     "output_type": "stream",
     "text": [
      "{'name': 'osama', 'age': '32', 'grade': 'A'}\n",
      "{'name': 'osama', 'age': '32', 'grade': 'A', 'address': 'india'}\n"
     ]
    }
   ],
   "source": [
    "# modifying the dict\n",
    "# dict are mutable {you can add or delete element}\n",
    "\n",
    "student['age']='32'\n",
    "print(student)\n",
    "\n",
    "student['address']='india'\n",
    "print(student)"
   ]
  },
  {
   "cell_type": "code",
   "execution_count": 8,
   "id": "84acb0d6",
   "metadata": {},
   "outputs": [
    {
     "name": "stdout",
     "output_type": "stream",
     "text": [
      "{'name': 'osama', 'age': '32', 'address': 'india'}\n"
     ]
    }
   ],
   "source": [
    "del student['grade']\n",
    "\n",
    "print(student)"
   ]
  },
  {
   "cell_type": "code",
   "execution_count": 9,
   "id": "bd68c59d",
   "metadata": {},
   "outputs": [
    {
     "name": "stdout",
     "output_type": "stream",
     "text": [
      "dict_keys(['name', 'age', 'address'])\n"
     ]
    }
   ],
   "source": [
    "# dictionary methods\n",
    "\n",
    "keys=student.keys()\n",
    "print(keys)"
   ]
  },
  {
   "cell_type": "code",
   "execution_count": 10,
   "id": "bbc9389b",
   "metadata": {},
   "outputs": [
    {
     "name": "stdout",
     "output_type": "stream",
     "text": [
      "dict_values(['osama', '32', 'india'])\n"
     ]
    }
   ],
   "source": [
    "values=student.values()\n",
    "print(values)"
   ]
  },
  {
   "cell_type": "code",
   "execution_count": 11,
   "id": "ad74a5ed",
   "metadata": {},
   "outputs": [
    {
     "name": "stdout",
     "output_type": "stream",
     "text": [
      "dict_items([('name', 'osama'), ('age', '32'), ('address', 'india')])\n"
     ]
    }
   ],
   "source": [
    "items=student.items()\n",
    "print(items)"
   ]
  },
  {
   "cell_type": "code",
   "execution_count": 12,
   "id": "c17e7c31",
   "metadata": {},
   "outputs": [
    {
     "data": {
      "text/plain": [
       "{'name': 'osama', 'age': '32', 'address': 'india'}"
      ]
     },
     "execution_count": 12,
     "metadata": {},
     "output_type": "execute_result"
    }
   ],
   "source": [
    "# shalllow copying\n",
    "\n",
    "student"
   ]
  },
  {
   "cell_type": "code",
   "execution_count": 13,
   "id": "270c968e",
   "metadata": {},
   "outputs": [
    {
     "name": "stdout",
     "output_type": "stream",
     "text": [
      "{'name': 'osama', 'age': '32', 'address': 'india'}\n",
      "{'name': 'osama', 'age': '32', 'address': 'india'}\n"
     ]
    }
   ],
   "source": [
    "stud_copy=student\n",
    "print(student)\n",
    "print(stud_copy)"
   ]
  },
  {
   "cell_type": "code",
   "execution_count": 14,
   "id": "c0b625ba",
   "metadata": {},
   "outputs": [
    {
     "name": "stdout",
     "output_type": "stream",
     "text": [
      "{'name': 'hehe2', 'age': '32', 'address': 'india'}\n",
      "{'name': 'hehe2', 'age': '32', 'address': 'india'}\n"
     ]
    }
   ],
   "source": [
    "student['name']='hehe2'\n",
    "print(student)\n",
    "print(stud_copy)"
   ]
  },
  {
   "cell_type": "code",
   "execution_count": 15,
   "id": "261fc3f7",
   "metadata": {},
   "outputs": [
    {
     "name": "stdout",
     "output_type": "stream",
     "text": [
      "{'name': 'hehe2', 'age': '32', 'address': 'india'}\n",
      "{'name': 'hehe2', 'age': '32', 'address': 'india'}\n"
     ]
    }
   ],
   "source": [
    "stud_copy1=student.copy()\n",
    "print(stud_copy1)\n",
    "print(student)"
   ]
  },
  {
   "cell_type": "code",
   "execution_count": 16,
   "id": "95dcf351",
   "metadata": {},
   "outputs": [
    {
     "name": "stdout",
     "output_type": "stream",
     "text": [
      "{'name': 'hehe2', 'age': '32', 'address': 'india'}\n",
      "{'name': 'hehe3', 'age': '32', 'address': 'india'}\n"
     ]
    }
   ],
   "source": [
    "student['name']='hehe3'\n",
    "print(stud_copy1)\n",
    "print(student)"
   ]
  },
  {
   "cell_type": "code",
   "execution_count": 17,
   "id": "0cb9ccdd",
   "metadata": {},
   "outputs": [
    {
     "name": "stdout",
     "output_type": "stream",
     "text": [
      "name\n",
      "age\n",
      "address\n"
     ]
    }
   ],
   "source": [
    "# iterating over keys\n",
    "\n",
    "for keys in student.keys():\n",
    "    print(keys)"
   ]
  },
  {
   "cell_type": "code",
   "execution_count": 18,
   "id": "5f7c1e66",
   "metadata": {},
   "outputs": [
    {
     "name": "stdout",
     "output_type": "stream",
     "text": [
      "hehe3\n",
      "32\n",
      "india\n"
     ]
    }
   ],
   "source": [
    "# iterating over keys\n",
    "\n",
    "for val in student.values():\n",
    "    print(val)"
   ]
  },
  {
   "cell_type": "code",
   "execution_count": 19,
   "id": "b77ce56c",
   "metadata": {},
   "outputs": [
    {
     "name": "stdout",
     "output_type": "stream",
     "text": [
      "name:hehe3\n",
      "age:32\n",
      "address:india\n"
     ]
    }
   ],
   "source": [
    "for key,val in student.items():\n",
    "    # print(key,val)\n",
    "    print(f'{key}:{val}')"
   ]
  },
  {
   "cell_type": "code",
   "execution_count": null,
   "id": "27eff6d4",
   "metadata": {},
   "outputs": [],
   "source": []
  }
 ],
 "metadata": {
  "kernelspec": {
   "display_name": "Python 3",
   "language": "python",
   "name": "python3"
  },
  "language_info": {
   "codemirror_mode": {
    "name": "ipython",
    "version": 3
   },
   "file_extension": ".py",
   "mimetype": "text/x-python",
   "name": "python",
   "nbconvert_exporter": "python",
   "pygments_lexer": "ipython3",
   "version": "3.12.0"
  }
 },
 "nbformat": 4,
 "nbformat_minor": 5
}
