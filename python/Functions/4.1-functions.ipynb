{
 "cells": [
  {
   "cell_type": "code",
   "execution_count": 1,
   "id": "ddf27aab",
   "metadata": {},
   "outputs": [],
   "source": [
    "# syntax\n",
    "\n",
    "\n",
    "def function_name(parameter):\n",
    "    '''docstring'''\n",
    "    # ?function body\n",
    "    return expression"
   ]
  },
  {
   "cell_type": "code",
   "execution_count": 2,
   "id": "8436147e",
   "metadata": {},
   "outputs": [],
   "source": [
    "def even (num):\n",
    "    '''this funct find even ot odd'''\n",
    "    if num%2==0:\n",
    "        print('even')\n",
    "    else:\n",
    "        print('odd')"
   ]
  },
  {
   "cell_type": "code",
   "execution_count": 3,
   "id": "a92505b7",
   "metadata": {},
   "outputs": [
    {
     "name": "stdout",
     "output_type": "stream",
     "text": [
      "odd\n"
     ]
    }
   ],
   "source": [
    "# funct calling\n",
    "\n",
    "even(23)"
   ]
  },
  {
   "cell_type": "code",
   "execution_count": 4,
   "id": "d45942df",
   "metadata": {},
   "outputs": [
    {
     "name": "stdout",
     "output_type": "stream",
     "text": [
      "15\n"
     ]
    }
   ],
   "source": [
    "# funct with multiple parameter\n",
    "\n",
    "def add(a,b):\n",
    "    \"\"\"\"\"\"\n",
    "    return a+b\n",
    "\n",
    "result=add(7,8)\n",
    "print(result)\n"
   ]
  },
  {
   "cell_type": "code",
   "execution_count": 6,
   "id": "02bc211d",
   "metadata": {},
   "outputs": [
    {
     "data": {
      "text/plain": [
       "'hello diddy'"
      ]
     },
     "execution_count": 6,
     "metadata": {},
     "output_type": "execute_result"
    }
   ],
   "source": [
    "def greet(name):\n",
    "    return(f\"hello {name}\")\n",
    "\n",
    "greet(\"diddy\")"
   ]
  },
  {
   "cell_type": "code",
   "execution_count": null,
   "id": "350eb960",
   "metadata": {},
   "outputs": [],
   "source": [
    "def print(num1,num2,num3,num4,num5):\n",
    "    "
   ]
  },
  {
   "cell_type": "code",
   "execution_count": 12,
   "id": "fb4fd809",
   "metadata": {},
   "outputs": [],
   "source": [
    "def print_num(*args):\n",
    "    for number in args:\n",
    "        print(number)"
   ]
  },
  {
   "cell_type": "code",
   "execution_count": 13,
   "id": "b60fa930",
   "metadata": {},
   "outputs": [
    {
     "name": "stdout",
     "output_type": "stream",
     "text": [
      "1\n",
      "2\n",
      "3\n",
      "4\n",
      "5\n",
      "6\n",
      "7\n",
      "hehe\n"
     ]
    }
   ],
   "source": [
    "print_num(1,2,3,4,5,6,7,\"hehe\")"
   ]
  },
  {
   "cell_type": "code",
   "execution_count": 16,
   "id": "5a22fb44",
   "metadata": {},
   "outputs": [],
   "source": [
    "# keyword argument\n",
    "\n",
    "def print_det(**kwargs):\n",
    "    for key,value in kwargs.items():\n",
    "        print(key,value)"
   ]
  },
  {
   "cell_type": "code",
   "execution_count": 17,
   "id": "c89849df",
   "metadata": {},
   "outputs": [
    {
     "name": "stdout",
     "output_type": "stream",
     "text": [
      "name diddy\n",
      "age 32\n",
      "country us\n"
     ]
    }
   ],
   "source": [
    "print_det(name='diddy',age='32',country='us')"
   ]
  },
  {
   "cell_type": "code",
   "execution_count": null,
   "id": "c25f1a37",
   "metadata": {},
   "outputs": [],
   "source": []
  }
 ],
 "metadata": {
  "kernelspec": {
   "display_name": "Python 3",
   "language": "python",
   "name": "python3"
  },
  "language_info": {
   "codemirror_mode": {
    "name": "ipython",
    "version": 3
   },
   "file_extension": ".py",
   "mimetype": "text/x-python",
   "name": "python",
   "nbconvert_exporter": "python",
   "pygments_lexer": "ipython3",
   "version": "3.12.0"
  }
 },
 "nbformat": 4,
 "nbformat_minor": 5
}
