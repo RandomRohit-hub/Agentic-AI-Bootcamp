{
 "cells": [
  {
   "cell_type": "code",
   "execution_count": 17,
   "id": "0f39bdd5",
   "metadata": {},
   "outputs": [
    {
     "name": "stdout",
     "output_type": "stream",
     "text": [
      "new entryappend overwritting taking place\n",
      "append overwritting taking placefirst line\n",
      "second line\n",
      "\n"
     ]
    }
   ],
   "source": [
    "# read a whole file \n",
    "\n",
    "with open('example.txt','r') as file:\n",
    "    content=file.read()\n",
    "    print(content)"
   ]
  },
  {
   "cell_type": "code",
   "execution_count": 18,
   "id": "0f81f7ef",
   "metadata": {},
   "outputs": [
    {
     "name": "stdout",
     "output_type": "stream",
     "text": [
      "new entryappend overwritting taking place\n",
      "\n",
      "append overwritting taking placefirst line\n",
      "\n",
      "second line\n",
      "\n"
     ]
    }
   ],
   "source": [
    "# read a file line by line \n",
    "\n",
    "with open('example.txt' , 'r') as file:\n",
    "    for line in file:\n",
    "        print(line)\n",
    "        "
   ]
  },
  {
   "cell_type": "code",
   "execution_count": 19,
   "id": "dc397a9f",
   "metadata": {},
   "outputs": [],
   "source": [
    "# overwritting \n",
    "with open('example.txt','w') as file:\n",
    "    file.write('new entry')"
   ]
  },
  {
   "cell_type": "code",
   "execution_count": 20,
   "id": "9876af42",
   "metadata": {},
   "outputs": [],
   "source": [
    "# write a file without overwritting \n",
    "\n",
    "with open('example.txt','a') as file:\n",
    "    file.write('\\nappend overwritting taking place\\n')"
   ]
  },
  {
   "cell_type": "code",
   "execution_count": 21,
   "id": "ac50ebd3",
   "metadata": {},
   "outputs": [],
   "source": [
    "# writting a list of lines to file \n",
    "\n",
    "lines=['first line\\n','second line\\n']\n",
    "with open('example.txt','a') as file:\n",
    "    file.writelines(lines)"
   ]
  },
  {
   "cell_type": "code",
   "execution_count": 22,
   "id": "2f1d0074",
   "metadata": {},
   "outputs": [],
   "source": [
    "# bites operation\n",
    "data=b'\\x00\\x01\\x02\\x03\\x04'\n",
    "with open('example.bin','wb') as file:\n",
    "    file.write(data)"
   ]
  },
  {
   "cell_type": "code",
   "execution_count": 24,
   "id": "8cd36b31",
   "metadata": {},
   "outputs": [
    {
     "name": "stdout",
     "output_type": "stream",
     "text": [
      "b'\\x00\\x01\\x02\\x03\\x04'\n"
     ]
    }
   ],
   "source": [
    "with open('example.bin','rb') as file:\n",
    "    read=file.read()\n",
    "    print(read)"
   ]
  },
  {
   "cell_type": "code",
   "execution_count": 2,
   "id": "5a76a59c",
   "metadata": {},
   "outputs": [],
   "source": [
    "with open('example.txt','r') as source_file:\n",
    "    content=source_file.read()\n",
    "\n",
    "with open('destination.txt','w') as destination_file:\n",
    "    destination_file.write(content)"
   ]
  },
  {
   "cell_type": "code",
   "execution_count": 5,
   "id": "f5e0dbee",
   "metadata": {},
   "outputs": [
    {
     "name": "stdout",
     "output_type": "stream",
     "text": [
      "hello world\n",
      "hello new world\n",
      "\n"
     ]
    }
   ],
   "source": [
    "with open('example.txt','w+') as file:\n",
    "    file.write('hello world\\n')\n",
    "    file.write('hello new world\\n')\n",
    "\n",
    "\n",
    "    # move the file cursor to beginning  \n",
    "\n",
    "    file.seek(0)\n",
    "\n",
    "    # read the content  \n",
    "    content=file.read()\n",
    "    print(content)"
   ]
  },
  {
   "cell_type": "code",
   "execution_count": null,
   "id": "2ac51bd1",
   "metadata": {},
   "outputs": [],
   "source": []
  }
 ],
 "metadata": {
  "kernelspec": {
   "display_name": "Python 3",
   "language": "python",
   "name": "python3"
  },
  "language_info": {
   "codemirror_mode": {
    "name": "ipython",
    "version": 3
   },
   "file_extension": ".py",
   "mimetype": "text/x-python",
   "name": "python",
   "nbconvert_exporter": "python",
   "pygments_lexer": "ipython3",
   "version": "3.12.0"
  }
 },
 "nbformat": 4,
 "nbformat_minor": 5
}
