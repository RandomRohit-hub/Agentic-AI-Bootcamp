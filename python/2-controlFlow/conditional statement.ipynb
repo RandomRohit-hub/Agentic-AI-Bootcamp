{
 "cells": [
  {
   "cell_type": "code",
   "execution_count": 2,
   "id": "6ef5fd9b",
   "metadata": {},
   "outputs": [
    {
     "name": "stdout",
     "output_type": "stream",
     "text": [
      "not allowed\n"
     ]
    }
   ],
   "source": [
    "age=12\n",
    "\n",
    "if age>=20:\n",
    "    print('allowed')\n",
    "else :\n",
    "    print('not allowed')    "
   ]
  },
  {
   "cell_type": "code",
   "execution_count": 4,
   "id": "2ec8c759",
   "metadata": {},
   "outputs": [
    {
     "name": "stdout",
     "output_type": "stream",
     "text": [
      "teen\n"
     ]
    }
   ],
   "source": [
    "#elif\n",
    "\n",
    "age=17\n",
    "\n",
    "if age<13:\n",
    "    print('child')\n",
    "elif age<18:\n",
    "    print('teen')\n",
    "else:\n",
    "    print('Adult')    "
   ]
  },
  {
   "cell_type": "code",
   "execution_count": 6,
   "id": "56d642be",
   "metadata": {},
   "outputs": [
    {
     "name": "stdout",
     "output_type": "stream",
     "text": [
      "positive\n",
      "even\n"
     ]
    }
   ],
   "source": [
    "# nested conditional statement\n",
    "\n",
    "n=int(input(\"enter num\"))\n",
    "\n",
    "if n>=0:\n",
    "    print('positive')\n",
    "    if n%2==0:\n",
    "        print('even')\n",
    "    else:\n",
    "        print('odd')\n",
    "\n",
    "else:\n",
    "    print('0 or negative')"
   ]
  },
  {
   "cell_type": "code",
   "execution_count": 9,
   "id": "cbdac59b",
   "metadata": {},
   "outputs": [
    {
     "name": "stdout",
     "output_type": "stream",
     "text": [
      "2024 is a leap year \n"
     ]
    }
   ],
   "source": [
    "year=int(input('enter n'))\n",
    "\n",
    "if year%4==0:\n",
    "    if year%100==0:\n",
    "        if year%400==0:\n",
    "            print(year,\" is leap year\")\n",
    "        else:\n",
    "            print(year,'is not a leap year')\n",
    "    else:\n",
    "        print(year,\"is a leap year \")\n",
    "else:\n",
    "    print(year,\"is not a leap year\")"
   ]
  },
  {
   "cell_type": "code",
   "execution_count": null,
   "id": "f7cf96a7",
   "metadata": {},
   "outputs": [],
   "source": []
  }
 ],
 "metadata": {
  "kernelspec": {
   "display_name": "Python 3",
   "language": "python",
   "name": "python3"
  },
  "language_info": {
   "codemirror_mode": {
    "name": "ipython",
    "version": 3
   },
   "file_extension": ".py",
   "mimetype": "text/x-python",
   "name": "python",
   "nbconvert_exporter": "python",
   "pygments_lexer": "ipython3",
   "version": "3.12.0"
  }
 },
 "nbformat": 4,
 "nbformat_minor": 5
}
