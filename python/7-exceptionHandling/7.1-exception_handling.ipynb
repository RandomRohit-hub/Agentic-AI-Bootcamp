{
 "cells": [
  {
   "cell_type": "code",
   "execution_count": 1,
   "id": "673c6d6b",
   "metadata": {},
   "outputs": [],
   "source": [
    "a=10"
   ]
  },
  {
   "cell_type": "code",
   "execution_count": 2,
   "id": "1fe27c8e",
   "metadata": {},
   "outputs": [
    {
     "ename": "NameError",
     "evalue": "name 'b' is not defined",
     "output_type": "error",
     "traceback": [
      "\u001b[31m---------------------------------------------------------------------------\u001b[39m",
      "\u001b[31mNameError\u001b[39m                                 Traceback (most recent call last)",
      "\u001b[36mCell\u001b[39m\u001b[36m \u001b[39m\u001b[32mIn[2]\u001b[39m\u001b[32m, line 1\u001b[39m\n\u001b[32m----> \u001b[39m\u001b[32m1\u001b[39m a=\u001b[43mb\u001b[49m\n",
      "\u001b[31mNameError\u001b[39m: name 'b' is not defined"
     ]
    }
   ],
   "source": [
    "a=b"
   ]
  },
  {
   "cell_type": "code",
   "execution_count": 3,
   "id": "6e820965",
   "metadata": {},
   "outputs": [
    {
     "name": "stdout",
     "output_type": "stream",
     "text": [
      "variable not assigned\n"
     ]
    }
   ],
   "source": [
    "## exceptional handling try except blocks \n",
    "\n",
    "try:\n",
    "    a=b \n",
    "except:\n",
    "    print('variable not assigned')"
   ]
  },
  {
   "cell_type": "code",
   "execution_count": 4,
   "id": "b2b6fe23",
   "metadata": {},
   "outputs": [
    {
     "name": "stdout",
     "output_type": "stream",
     "text": [
      "name 'b' is not defined\n"
     ]
    }
   ],
   "source": [
    "try:\n",
    "    a=b \n",
    "except NameError as ex:\n",
    "    print(ex)"
   ]
  },
  {
   "cell_type": "code",
   "execution_count": 5,
   "id": "e65fdc06",
   "metadata": {},
   "outputs": [
    {
     "name": "stdout",
     "output_type": "stream",
     "text": [
      "division by zero\n",
      "enter the denominator >0 \n"
     ]
    }
   ],
   "source": [
    "try :\n",
    "    res=1/0\n",
    "except ZeroDivisionError as ex:\n",
    "    print(ex)\n",
    "    print('enter the denominator >0 ')"
   ]
  },
  {
   "cell_type": "code",
   "execution_count": 6,
   "id": "34d7cbb6",
   "metadata": {},
   "outputs": [
    {
     "name": "stdout",
     "output_type": "stream",
     "text": [
      "division by zero\n",
      "enter the denominator >0 \n"
     ]
    }
   ],
   "source": [
    "try :\n",
    "    res=1/0\n",
    "    a=b\n",
    "except ZeroDivisionError as ex:\n",
    "    print(ex)\n",
    "    print('enter the denominator >0 ')\n",
    "\n",
    "except Exception as ex1:\n",
    "    print('ex1')"
   ]
  },
  {
   "cell_type": "code",
   "execution_count": 7,
   "id": "fe0a7c78",
   "metadata": {},
   "outputs": [],
   "source": [
    "try:\n",
    "    num=int(input('enter a num'))\n",
    "    result=10/num\n",
    "\n",
    "except ValueError:\n",
    "    print('val eror')\n",
    "\n",
    "except ZeroDivisionError:\n",
    "    print('enter the denominator >0')"
   ]
  },
  {
   "cell_type": "code",
   "execution_count": 8,
   "id": "f635afdf",
   "metadata": {},
   "outputs": [
    {
     "name": "stdout",
     "output_type": "stream",
     "text": [
      "the result is0.8333333333333334\n"
     ]
    }
   ],
   "source": [
    "try:\n",
    "    num=int(input('enter a num'))\n",
    "    result=10/num\n",
    "\n",
    "except ValueError:\n",
    "    print('val eror')\n",
    "\n",
    "except ZeroDivisionError:\n",
    "    print('enter the denominator >0')\n",
    "\n",
    "else:\n",
    "    print(f\"the result is{result}\")"
   ]
  },
  {
   "cell_type": "code",
   "execution_count": 9,
   "id": "e0d2539c",
   "metadata": {},
   "outputs": [
    {
     "name": "stdout",
     "output_type": "stream",
     "text": [
      "the result is0.45454545454545453\n",
      "execution done\n"
     ]
    }
   ],
   "source": [
    "try:\n",
    "    num=int(input('enter a num'))\n",
    "    result=10/num\n",
    "\n",
    "except ValueError:\n",
    "    print('val eror')\n",
    "\n",
    "except ZeroDivisionError:\n",
    "    print('enter the denominator >0')\n",
    "\n",
    "else:\n",
    "    print(f\"the result is{result}\")\n",
    "\n",
    "finally:\n",
    "    print('execution done')"
   ]
  },
  {
   "cell_type": "code",
   "execution_count": null,
   "id": "a3f3fd36",
   "metadata": {},
   "outputs": [],
   "source": []
  },
  {
   "cell_type": "code",
   "execution_count": null,
   "id": "287cc1de",
   "metadata": {},
   "outputs": [],
   "source": []
  },
  {
   "cell_type": "code",
   "execution_count": null,
   "id": "2a9f58a5",
   "metadata": {},
   "outputs": [],
   "source": []
  },
  {
   "cell_type": "code",
   "execution_count": null,
   "id": "e9649a08",
   "metadata": {},
   "outputs": [],
   "source": []
  },
  {
   "cell_type": "code",
   "execution_count": null,
   "id": "632a29dc",
   "metadata": {},
   "outputs": [],
   "source": []
  },
  {
   "cell_type": "code",
   "execution_count": null,
   "id": "da9e4523",
   "metadata": {},
   "outputs": [],
   "source": []
  }
 ],
 "metadata": {
  "kernelspec": {
   "display_name": "Python 3",
   "language": "python",
   "name": "python3"
  },
  "language_info": {
   "codemirror_mode": {
    "name": "ipython",
    "version": 3
   },
   "file_extension": ".py",
   "mimetype": "text/x-python",
   "name": "python",
   "nbconvert_exporter": "python",
   "pygments_lexer": "ipython3",
   "version": "3.12.0"
  }
 },
 "nbformat": 4,
 "nbformat_minor": 5
}
