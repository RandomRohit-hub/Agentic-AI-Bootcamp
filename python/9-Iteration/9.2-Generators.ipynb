{
 "cells": [
  {
   "cell_type": "markdown",
   "id": "2ee15c02",
   "metadata": {},
   "source": [
    "A generator is a special kind of iterator that you can create easily using a function with yield instead of return.\n",
    "\n",
    "Generators produce values one at a time, which saves memory and makes code faster when handling large data."
   ]
  },
  {
   "cell_type": "code",
   "execution_count": 3,
   "id": "102f56b6",
   "metadata": {},
   "outputs": [],
   "source": [
    "def square(n):\n",
    "    for i in range(3):\n",
    "        yield i**2\n"
   ]
  },
  {
   "cell_type": "code",
   "execution_count": 4,
   "id": "d433301f",
   "metadata": {},
   "outputs": [
    {
     "data": {
      "text/plain": [
       "<generator object square at 0x00000285D8D2D630>"
      ]
     },
     "execution_count": 4,
     "metadata": {},
     "output_type": "execute_result"
    }
   ],
   "source": [
    "square(3)"
   ]
  },
  {
   "cell_type": "code",
   "execution_count": 5,
   "id": "c153dac2",
   "metadata": {},
   "outputs": [
    {
     "name": "stdout",
     "output_type": "stream",
     "text": [
      "0\n",
      "1\n",
      "4\n"
     ]
    }
   ],
   "source": [
    "for i in square(3):\n",
    "    print(i)"
   ]
  },
  {
   "cell_type": "code",
   "execution_count": 6,
   "id": "5a299183",
   "metadata": {},
   "outputs": [
    {
     "data": {
      "text/plain": [
       "<generator object square at 0x00000285D8D2EDC0>"
      ]
     },
     "execution_count": 6,
     "metadata": {},
     "output_type": "execute_result"
    }
   ],
   "source": [
    "s=square(3)\n",
    "s "
   ]
  },
  {
   "cell_type": "code",
   "execution_count": 9,
   "id": "28e79c1d",
   "metadata": {},
   "outputs": [
    {
     "data": {
      "text/plain": [
       "1"
      ]
     },
     "execution_count": 9,
     "metadata": {},
     "output_type": "execute_result"
    }
   ],
   "source": [
    "next(s)"
   ]
  },
  {
   "cell_type": "code",
   "execution_count": 10,
   "id": "1b625f88",
   "metadata": {},
   "outputs": [
    {
     "name": "stdout",
     "output_type": "stream",
     "text": [
      "1\n",
      "2\n",
      "3\n",
      "4\n",
      "5\n"
     ]
    }
   ],
   "source": [
    "def infinite_numbers():\n",
    "    num = 1\n",
    "    while True:\n",
    "        yield num\n",
    "        num += 1\n",
    "\n",
    "gen = infinite_numbers()\n",
    "\n",
    "# Print first 5 numbers only\n",
    "for i in range(5):\n",
    "    print(next(gen))\n"
   ]
  },
  {
   "cell_type": "code",
   "execution_count": 11,
   "id": "4885ed53",
   "metadata": {},
   "outputs": [],
   "source": [
    "# reading large files \n",
    "\n",
    "def read(file_path):\n",
    "    with open(file_path,'r') as file:\n",
    "        for line in file:\n",
    "            yield line "
   ]
  },
  {
   "cell_type": "code",
   "execution_count": 12,
   "id": "8e817cb2",
   "metadata": {},
   "outputs": [
    {
     "name": "stdout",
     "output_type": "stream",
     "text": [
      "An article, according to the Merriam-Webster Dictionary, is defined as “any of a small set of words or affixes (such as a, an, and the) used with nouns to limit or give definiteness to the application.” According to the Collin\n",
      "Dictionary, “an article is a kind of determiner. In English, ‘a’ and ‘an’ are called the\n",
      "indefinite article, and ‘the’ is called the definite article.” The Macmillan Dictionary\n",
      "defines an article as “a type of determiner (=word used before a noun) that shows whether you are referring to a particular thing or to a\n",
      "general example of something. The indefinite article is ‘a’ or ‘an’ and the definite article is ‘the’\n"
     ]
    }
   ],
   "source": [
    "file_path=\"large_file.txt\"\n",
    "for line in read(file_path):\n",
    "    print(line.strip())\n"
   ]
  },
  {
   "cell_type": "code",
   "execution_count": null,
   "id": "dc9b38e4",
   "metadata": {},
   "outputs": [],
   "source": []
  },
  {
   "cell_type": "code",
   "execution_count": null,
   "id": "c33df020",
   "metadata": {},
   "outputs": [],
   "source": []
  }
 ],
 "metadata": {
  "kernelspec": {
   "display_name": "Python 3",
   "language": "python",
   "name": "python3"
  },
  "language_info": {
   "codemirror_mode": {
    "name": "ipython",
    "version": 3
   },
   "file_extension": ".py",
   "mimetype": "text/x-python",
   "name": "python",
   "nbconvert_exporter": "python",
   "pygments_lexer": "ipython3",
   "version": "3.12.0"
  }
 },
 "nbformat": 4,
 "nbformat_minor": 5
}
