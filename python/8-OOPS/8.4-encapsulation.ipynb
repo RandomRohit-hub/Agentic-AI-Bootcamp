{
 "cells": [
  {
   "cell_type": "code",
   "execution_count": null,
   "id": "65081802",
   "metadata": {},
   "outputs": [
    {
     "name": "stdout",
     "output_type": "stream",
     "text": [
      "krish\n"
     ]
    }
   ],
   "source": [
    "class person:\n",
    "    def __init__(self,name,age):\n",
    "        self.name=name\n",
    "        self.age=age\n",
    "\n",
    "        \n",
    "\n",
    "person=person(\"krish\",34)\n",
    "print(person.name)        "
   ]
  },
  {
   "cell_type": "code",
   "execution_count": 2,
   "id": "ecfd7fa8",
   "metadata": {},
   "outputs": [
    {
     "data": {
      "text/plain": [
       "['__class__',\n",
       " '__delattr__',\n",
       " '__dict__',\n",
       " '__dir__',\n",
       " '__doc__',\n",
       " '__eq__',\n",
       " '__format__',\n",
       " '__ge__',\n",
       " '__getattribute__',\n",
       " '__getstate__',\n",
       " '__gt__',\n",
       " '__hash__',\n",
       " '__init__',\n",
       " '__init_subclass__',\n",
       " '__le__',\n",
       " '__lt__',\n",
       " '__module__',\n",
       " '__ne__',\n",
       " '__new__',\n",
       " '__reduce__',\n",
       " '__reduce_ex__',\n",
       " '__repr__',\n",
       " '__setattr__',\n",
       " '__sizeof__',\n",
       " '__str__',\n",
       " '__subclasshook__',\n",
       " '__weakref__',\n",
       " 'age',\n",
       " 'name']"
      ]
     },
     "execution_count": 2,
     "metadata": {},
     "output_type": "execute_result"
    }
   ],
   "source": [
    "dir(person)"
   ]
  },
  {
   "cell_type": "code",
   "execution_count": 1,
   "id": "cfee5384",
   "metadata": {},
   "outputs": [
    {
     "name": "stdout",
     "output_type": "stream",
     "text": [
      "Name: Krish\n",
      "Age: 34\n",
      "Updated Age: 40\n"
     ]
    }
   ],
   "source": [
    "class Person:\n",
    "    def __init__(self, name, age):\n",
    "        # Private attributes (encapsulated)\n",
    "        self.__name = name\n",
    "        self.__age = age\n",
    "\n",
    "    # Getter method (to access private data)\n",
    "    def get_name(self):\n",
    "        return self.__name\n",
    "\n",
    "    def get_age(self):\n",
    "        return self.__age\n",
    "\n",
    "    # Setter method (to modify private data safely)\n",
    "    def set_age(self, new_age):\n",
    "        if new_age > 0:\n",
    "            self.__age = new_age\n",
    "        else:\n",
    "            print(\"Invalid age!\")\n",
    "\n",
    "# Creating object\n",
    "person = Person(\"Krish\", 34)\n",
    "\n",
    "# Accessing private data using getter\n",
    "print(\"Name:\", person.get_name())\n",
    "print(\"Age:\", person.get_age())\n",
    "\n",
    "# Trying to update age using setter\n",
    "person.set_age(40)\n",
    "print(\"Updated Age:\", person.get_age())\n",
    "\n",
    "# Direct access (will fail)\n",
    "# print(person.__age)  # ❌ AttributeError\n"
   ]
  },
  {
   "cell_type": "code",
   "execution_count": 2,
   "id": "48a25939",
   "metadata": {},
   "outputs": [
    {
     "name": "stdout",
     "output_type": "stream",
     "text": [
      "Initial Balance: 5000\n",
      "Updated Balance: 6500\n"
     ]
    }
   ],
   "source": [
    "class BankAccount:\n",
    "    def __init__(self, owner, balance):\n",
    "        self.owner = owner\n",
    "        self.__balance = balance   # <-- private variable\n",
    "\n",
    "    # Public method to access private variable\n",
    "    def get_balance(self):\n",
    "        return self.__balance\n",
    "\n",
    "    # Public method to modify private variable safely\n",
    "    def deposit(self, amount):\n",
    "        if amount > 0:\n",
    "            self.__balance += amount\n",
    "        else:\n",
    "            print(\"Invalid deposit amount\")\n",
    "\n",
    "# Create object\n",
    "acc = BankAccount(\"Rohit\", 5000)\n",
    "\n",
    "# Accessing private variable directly (❌ not allowed)\n",
    "# print(acc.__balance)  # AttributeError\n",
    "\n",
    "# Accessing through public method (✅ allowed)\n",
    "print(\"Initial Balance:\", acc.get_balance())\n",
    "\n",
    "# Deposit money\n",
    "acc.deposit(1500)\n",
    "print(\"Updated Balance:\", acc.get_balance())\n",
    "\n",
    "# Still private internally\n",
    "# You *can* access it using name mangling, but not recommended:\n",
    "# print(acc._BankAccount__balance)  # Not best practice\n"
   ]
  },
  {
   "cell_type": "code",
   "execution_count": null,
   "id": "7074b684",
   "metadata": {},
   "outputs": [],
   "source": [
    "class Employee:\n",
    "    def __init__(self, name, salary):\n",
    "        self.name = name\n",
    "        self._salary = salary   # <-- protected variable (single underscore)\n",
    "\n",
    "    def show_info(self):\n",
    "        print(f\"Employee Name: {self.name}, Salary: {self._salary}\")\n",
    "\n",
    "\n",
    "# Derived class\n",
    "class Manager(Employee):\n",
    "    def __init__(self, name, salary, department):\n",
    "        super().__init__(name, salary)\n",
    "        self.department = department\n",
    "\n",
    "    def show_manager_info(self):\n",
    "        # Can access protected variable from subclass\n",
    "        print(f\"Manager of {self.department} Department with salary: {self._salary}\")\n",
    "\n",
    "\n",
    "# Create objects\n",
    "emp = Employee(\"Rohit\", 50000)\n",
    "mgr = Manager(\"Sonia\", 80000, \"IT\")\n",
    "\n",
    "# Access through methods\n",
    "emp.show_info()\n",
    "mgr.show_manager_info()\n",
    "\n",
    "# Accessing protected variable directly (possible but not recommended)\n",
    "print(\"Protected salary (direct access):\", emp._salary)\n"
   ]
  }
 ],
 "metadata": {
  "kernelspec": {
   "display_name": "Python 3",
   "language": "python",
   "name": "python3"
  },
  "language_info": {
   "codemirror_mode": {
    "name": "ipython",
    "version": 3
   },
   "file_extension": ".py",
   "mimetype": "text/x-python",
   "name": "python",
   "nbconvert_exporter": "python",
   "pygments_lexer": "ipython3",
   "version": "3.12.0"
  }
 },
 "nbformat": 4,
 "nbformat_minor": 5
}
