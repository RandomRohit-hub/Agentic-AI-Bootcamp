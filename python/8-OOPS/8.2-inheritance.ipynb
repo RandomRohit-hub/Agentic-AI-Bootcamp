{
 "cells": [
  {
   "cell_type": "code",
   "execution_count": 1,
   "id": "0f8a5e93",
   "metadata": {},
   "outputs": [],
   "source": [
    "class car:\n",
    "    def __init__(self,window,door,engine):\n",
    "        self.window=window\n",
    "        self.door=door\n",
    "        self.engine=engine\n",
    "\n",
    "    def driver(self):\n",
    "        print(f\"person drive {self.engine} type car\")\n",
    "\n"
   ]
  },
  {
   "cell_type": "code",
   "execution_count": 2,
   "id": "a1ec8132",
   "metadata": {},
   "outputs": [
    {
     "name": "stdout",
     "output_type": "stream",
     "text": [
      "person drive petrol type car\n",
      "None\n"
     ]
    }
   ],
   "source": [
    "car1=car(4,4,'petrol')\n",
    "print(car1.driver())\n"
   ]
  },
  {
   "cell_type": "code",
   "execution_count": 3,
   "id": "02d5832e",
   "metadata": {},
   "outputs": [],
   "source": [
    "class Car:\n",
    "    def __init__(self, window, door, engine):\n",
    "        self.window = window\n",
    "        self.door = door\n",
    "        self.engine = engine\n",
    "\n",
    "class Tesla(Car):\n",
    "    def __init__(self, window, door, engine, is_self_driving):\n",
    "        super().__init__(window, door, engine)\n",
    "        self.is_self_driving = is_self_driving\n",
    "\n",
    "    def self_driving(self):\n",
    "        print(f\"Tesla supports self-driving: {self.is_self_driving}\")\n"
   ]
  },
  {
   "cell_type": "code",
   "execution_count": 4,
   "id": "215f102e",
   "metadata": {},
   "outputs": [
    {
     "name": "stdout",
     "output_type": "stream",
     "text": [
      "Tesla supports self-driving: True\n"
     ]
    }
   ],
   "source": [
    "my_tesla = Tesla(4, 4, \"Electric\", True)\n",
    "my_tesla.self_driving()\n"
   ]
  },
  {
   "cell_type": "code",
   "execution_count": 5,
   "id": "3d5d227b",
   "metadata": {},
   "outputs": [],
   "source": [
    "# Parent Class 1\n",
    "class Engine:\n",
    "    def start_engine(self):\n",
    "        print(\"Engine started\")\n",
    "\n",
    "# Parent Class 2\n",
    "class Battery:\n",
    "    def charge_battery(self):\n",
    "        print(\"Battery charging...\")\n",
    "\n",
    "# Child Class (inherits from both Engine and Battery)\n",
    "class ElectricCar(Engine, Battery):\n",
    "    def drive(self):\n",
    "        print(\"Car is driving silently 🚗⚡\")\n"
   ]
  },
  {
   "cell_type": "code",
   "execution_count": 6,
   "id": "5f97b5b5",
   "metadata": {},
   "outputs": [
    {
     "name": "stdout",
     "output_type": "stream",
     "text": [
      "Engine started\n",
      "Battery charging...\n",
      "Car is driving silently 🚗⚡\n"
     ]
    }
   ],
   "source": [
    "tesla = ElectricCar()\n",
    "tesla.start_engine()      # from Engine class\n",
    "tesla.charge_battery()    # from Battery class\n",
    "tesla.drive()             # from ElectricCar class\n"
   ]
  },
  {
   "cell_type": "code",
   "execution_count": null,
   "id": "909e597a",
   "metadata": {},
   "outputs": [],
   "source": []
  }
 ],
 "metadata": {
  "kernelspec": {
   "display_name": "Python 3",
   "language": "python",
   "name": "python3"
  },
  "language_info": {
   "codemirror_mode": {
    "name": "ipython",
    "version": 3
   },
   "file_extension": ".py",
   "mimetype": "text/x-python",
   "name": "python",
   "nbconvert_exporter": "python",
   "pygments_lexer": "ipython3",
   "version": "3.12.0"
  }
 },
 "nbformat": 4,
 "nbformat_minor": 5
}
