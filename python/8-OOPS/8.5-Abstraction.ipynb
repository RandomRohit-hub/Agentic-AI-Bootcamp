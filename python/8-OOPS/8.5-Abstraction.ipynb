{
 "cells": [
  {
   "cell_type": "code",
   "execution_count": 1,
   "id": "e5529a48",
   "metadata": {},
   "outputs": [
    {
     "name": "stdout",
     "output_type": "stream",
     "text": [
      "The vehicle is used for driving\n",
      "Car engine started with a key ignition!\n",
      "The vehicle is used for driving\n",
      "Bike engine started with a self-start button!\n"
     ]
    }
   ],
   "source": [
    "from abc import ABC, abstractmethod\n",
    "\n",
    "# Abstract base class\n",
    "class Vehicle(ABC):\n",
    "    def drive(self):\n",
    "        print(\"The vehicle is used for driving\")\n",
    "\n",
    "    @abstractmethod\n",
    "    def start_engine(self):\n",
    "        pass\n",
    "\n",
    "\n",
    "# Concrete subclass\n",
    "class Car(Vehicle):\n",
    "    def start_engine(self):\n",
    "        print(\"Car engine started with a key ignition!\")\n",
    "\n",
    "\n",
    "# Another concrete subclass\n",
    "class Bike(Vehicle):\n",
    "    def start_engine(self):\n",
    "        print(\"Bike engine started with a self-start button!\")\n",
    "\n",
    "\n",
    "# Function demonstrating abstraction\n",
    "def operate_vehicle(vehicle):\n",
    "    vehicle.drive()\n",
    "    vehicle.start_engine()\n",
    "\n",
    "\n",
    "# Create objects\n",
    "car = Car()\n",
    "bike = Bike()\n",
    "\n",
    "# Use the abstract class behavior\n",
    "operate_vehicle(car)\n",
    "operate_vehicle(bike)\n"
   ]
  },
  {
   "cell_type": "code",
   "execution_count": null,
   "id": "802bfcf5",
   "metadata": {},
   "outputs": [],
   "source": []
  }
 ],
 "metadata": {
  "kernelspec": {
   "display_name": "Python 3",
   "language": "python",
   "name": "python3"
  },
  "language_info": {
   "codemirror_mode": {
    "name": "ipython",
    "version": 3
   },
   "file_extension": ".py",
   "mimetype": "text/x-python",
   "name": "python",
   "nbconvert_exporter": "python",
   "pygments_lexer": "ipython3",
   "version": "3.12.0"
  }
 },
 "nbformat": 4,
 "nbformat_minor": 5
}
