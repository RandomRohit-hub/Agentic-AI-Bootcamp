{
 "cells": [
  {
   "cell_type": "code",
   "execution_count": 1,
   "id": "183680b9",
   "metadata": {},
   "outputs": [],
   "source": [
    "#basic syntax"
   ]
  },
  {
   "cell_type": "code",
   "execution_count": 4,
   "id": "a57a8390",
   "metadata": {},
   "outputs": [
    {
     "name": "stdout",
     "output_type": "stream",
     "text": [
      "bappan\n",
      "Billo\n"
     ]
    }
   ],
   "source": [
    "n='bappan'\n",
    "N='Billo'\n",
    "print(n)\n",
    "print(N)\n",
    "\n",
    "# case sensative"
   ]
  },
  {
   "cell_type": "code",
   "execution_count": 6,
   "id": "993014ac",
   "metadata": {},
   "outputs": [
    {
     "name": "stdout",
     "output_type": "stream",
     "text": [
      "hehe\n"
     ]
    }
   ],
   "source": [
    "# indentation\n",
    "\n",
    "age=99\n",
    "if age<10:\n",
    "    print(age)\n",
    "\n",
    "else :\n",
    "    print('hehe')    \n"
   ]
  },
  {
   "cell_type": "code",
   "execution_count": 7,
   "id": "caa73b76",
   "metadata": {},
   "outputs": [
    {
     "name": "stdout",
     "output_type": "stream",
     "text": [
      "25\n"
     ]
    }
   ],
   "source": [
    "#line continutor\n",
    "\n",
    "a=1+2+3+4+\\\n",
    "    4+5+6\n",
    "\n",
    "print(a)"
   ]
  },
  {
   "cell_type": "code",
   "execution_count": 8,
   "id": "e8e75beb",
   "metadata": {},
   "outputs": [
    {
     "name": "stdout",
     "output_type": "stream",
     "text": [
      "10\n"
     ]
    }
   ],
   "source": [
    "# multiple statement on single line\n",
    "\n",
    "x=1;y=9;z=x+y\n",
    "\n",
    "print(z)"
   ]
  },
  {
   "cell_type": "code",
   "execution_count": 10,
   "id": "4c2da8b5",
   "metadata": {},
   "outputs": [
    {
     "name": "stdout",
     "output_type": "stream",
     "text": [
      "<class 'int'>\n",
      "<class 'str'>\n"
     ]
    }
   ],
   "source": [
    "# type inference\n",
    "\n",
    "a=10\n",
    "print(type(a))\n",
    "a='hehe'\n",
    "print(type(a))\n"
   ]
  },
  {
   "cell_type": "code",
   "execution_count": 12,
   "id": "044c7aa0",
   "metadata": {},
   "outputs": [
    {
     "name": "stdout",
     "output_type": "stream",
     "text": [
      "this will print1\n",
      "this will print2\n",
      "this outside print\n"
     ]
    }
   ],
   "source": [
    "if True:\n",
    "    print('this will print1')\n",
    "    if False:\n",
    "       print ('this not print')\n",
    "    print('this will print2')\n",
    "print('this outside print')\n"
   ]
  },
  {
   "cell_type": "code",
   "execution_count": null,
   "id": "349c56e5",
   "metadata": {},
   "outputs": [],
   "source": []
  }
 ],
 "metadata": {
  "kernelspec": {
   "display_name": "Python 3",
   "language": "python",
   "name": "python3"
  },
  "language_info": {
   "codemirror_mode": {
    "name": "ipython",
    "version": 3
   },
   "file_extension": ".py",
   "mimetype": "text/x-python",
   "name": "python",
   "nbconvert_exporter": "python",
   "pygments_lexer": "ipython3",
   "version": "3.12.0"
  }
 },
 "nbformat": 4,
 "nbformat_minor": 5
}
